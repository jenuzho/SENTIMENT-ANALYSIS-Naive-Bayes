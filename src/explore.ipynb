{
    "cells": [
        {
            "cell_type": "markdown",
            "metadata": {},
            "source": [
                "<br>\n",
                "\n",
                "<br>\n",
                "\n",
                "<br>\n",
                "\n",
                "# 💕 **SENTIMENT ANALYSIS** 💕"
            ]
        },
        {
            "cell_type": "markdown",
            "metadata": {},
            "source": [
                "**NAIVE BAYES**\n",
                "-  **GaussianNB**\n",
                "- **MultinomialNB**\n",
                "- **BernoulliNB**"
            ]
        },
        {
            "cell_type": "markdown",
            "metadata": {},
            "source": [
                "<br>\n",
                "\n",
                "## **INDEX**\n",
                "\n",
                "- **STEP 1: PROBLEM DEFINITION AND DATA COLLECTION**\n",
                "- **STEP 2: STUDY OF VARIABLES AND PROCESSING**\n",
                "- **STEP 3: "
            ]
        },
        {
            "cell_type": "markdown",
            "metadata": {},
            "source": [
                "### **PROBLEM DEFINITION**\n",
                "\n",
                "\n",
                "The goal of this project is to develop a **Sentiment Analysis Classifier** for Google Play Store reviews using **Naive Bayes Models**. This classifier will determine whether a review has a **positive** (`1`) or **negative** (`0`) polarity based on its textual content.\n",
                "\n",
                "<br>\n",
                "\n",
                "**WHAT IS SENTIMENT ANALYSIS?**\n",
                "\n",
                "Sentiment analysis is a process in **Natural Language Processing (NLP)** used to identify and classify the sentiment of text data into categories such as **positive**, **negative**, or **neutral**. It is widely used in business and research to understand user feedback, gauge customer satisfaction, and monitor public opinion.\n",
                "\n",
                "<br>\n",
                "\n",
                "**NAIVE BAYES MODELS**\n",
                "\n",
                "Naive Bayes is a family of **Probabilistic Classification Algorithms** based on **Bayes' Theorem**. It assumes independence among predictors, making it highly efficient for text classification tasks like sentiment analysis. \n",
                "\n",
                "**Types of Naive Bayes Models**\n",
                "1. **GaussianNB**: Assumes features follow a normal distribution.\n",
                "2. **MultinomialNB**: Suitable for discrete features, like word counts.\n",
                "3. **BernoulliNB**: Designed for binary/boolean features.\n",
                "\n",
                "In this project, these models will be applied to classify **Google Play Store reviews**, with a focus on identifying the most appropriate Naive Bayes implementation for the problem.\n",
                "\n",
                "<br>\n",
                "\n",
                "**VARIABLES**\n",
                "- **`review` (Predictor)**: The text of the user’s comment, which will be processed into numerical features.\n",
                "- **`polarity` (Target)**: The sentiment of the comment, either **0** (negative) or **1** (positive).\n",
                "\n",
                "<br>\n",
                "\n",
                "**Key Steps**\n",
                "1. **Text Preprocessing**: Cleaning and converting text into a numerical format using techniques like removing spaces, converting to lowercase, and vectorization with **CountVectorizer**.\n",
                "2. **Model Selection**: Comparing and evaluating **GaussianNB**, **MultinomialNB**, and **BernoulliNB** to identify the best-performing model.\n",
                "3. **Model Optimization**: Enhancing the chosen model with additional algorithms, such as **Random Forest**.\n",
                "4. **Model Deployment**: Saving the trained model for future use.\n",
                "\n",
                "<br>\n",
                "\n",
                "**Characteristics of the Problem**\n",
                "- The dataset is **imbalanced**, containing textual data with **dichotomous labels**.\n",
                "- The primary predictor, `review`, needs **NLP preprocessing** before modeling.\n",
                "- The solution requires not only classification but also model **optimization** for better performance.\n",
                "\n"
            ]
        },
        {
            "cell_type": "markdown",
            "metadata": {},
            "source": [
                "<br>\n",
                "\n",
                "**1.2. LIBRARY IMPORTING**"
            ]
        },
        {
            "cell_type": "code",
            "execution_count": 8,
            "metadata": {},
            "outputs": [],
            "source": [
                "import pandas as pd\n",
                "from sklearn.model_selection import train_test_split\n",
                "from sklearn.feature_extraction.text import CountVectorizer\n",
                "\n"
            ]
        },
        {
            "cell_type": "markdown",
            "metadata": {},
            "source": [
                "**STEP 1** Loading the dataset\n"
            ]
        },
        {
            "cell_type": "code",
            "execution_count": 2,
            "metadata": {},
            "outputs": [
                {
                    "data": {
                        "text/html": [
                            "<div>\n",
                            "<style scoped>\n",
                            "    .dataframe tbody tr th:only-of-type {\n",
                            "        vertical-align: middle;\n",
                            "    }\n",
                            "\n",
                            "    .dataframe tbody tr th {\n",
                            "        vertical-align: top;\n",
                            "    }\n",
                            "\n",
                            "    .dataframe thead th {\n",
                            "        text-align: right;\n",
                            "    }\n",
                            "</style>\n",
                            "<table border=\"1\" class=\"dataframe\">\n",
                            "  <thead>\n",
                            "    <tr style=\"text-align: right;\">\n",
                            "      <th></th>\n",
                            "      <th>package_name</th>\n",
                            "      <th>review</th>\n",
                            "      <th>polarity</th>\n",
                            "    </tr>\n",
                            "  </thead>\n",
                            "  <tbody>\n",
                            "    <tr>\n",
                            "      <th>0</th>\n",
                            "      <td>com.facebook.katana</td>\n",
                            "      <td>privacy at least put some option appear offli...</td>\n",
                            "      <td>0</td>\n",
                            "    </tr>\n",
                            "    <tr>\n",
                            "      <th>1</th>\n",
                            "      <td>com.facebook.katana</td>\n",
                            "      <td>messenger issues ever since the last update, ...</td>\n",
                            "      <td>0</td>\n",
                            "    </tr>\n",
                            "    <tr>\n",
                            "      <th>2</th>\n",
                            "      <td>com.facebook.katana</td>\n",
                            "      <td>profile any time my wife or anybody has more ...</td>\n",
                            "      <td>0</td>\n",
                            "    </tr>\n",
                            "    <tr>\n",
                            "      <th>3</th>\n",
                            "      <td>com.facebook.katana</td>\n",
                            "      <td>the new features suck for those of us who don...</td>\n",
                            "      <td>0</td>\n",
                            "    </tr>\n",
                            "    <tr>\n",
                            "      <th>4</th>\n",
                            "      <td>com.facebook.katana</td>\n",
                            "      <td>forced reload on uploading pic on replying co...</td>\n",
                            "      <td>0</td>\n",
                            "    </tr>\n",
                            "  </tbody>\n",
                            "</table>\n",
                            "</div>"
                        ],
                        "text/plain": [
                            "          package_name                                             review  \\\n",
                            "0  com.facebook.katana   privacy at least put some option appear offli...   \n",
                            "1  com.facebook.katana   messenger issues ever since the last update, ...   \n",
                            "2  com.facebook.katana   profile any time my wife or anybody has more ...   \n",
                            "3  com.facebook.katana   the new features suck for those of us who don...   \n",
                            "4  com.facebook.katana   forced reload on uploading pic on replying co...   \n",
                            "\n",
                            "   polarity  \n",
                            "0         0  \n",
                            "1         0  \n",
                            "2         0  \n",
                            "3         0  \n",
                            "4         0  "
                        ]
                    },
                    "execution_count": 2,
                    "metadata": {},
                    "output_type": "execute_result"
                }
            ],
            "source": [
                "df = pd.read_csv(\"https://raw.githubusercontent.com/4GeeksAcademy/naive-bayes-project-tutorial/main/playstore_reviews.csv\")\n",
                "df.head()"
            ]
        },
        {
            "cell_type": "markdown",
            "metadata": {},
            "source": [
                "<br>\n",
                "\n",
                "## **STEP 2: STUDY OF VARIABLES AND PROCESSING**"
            ]
        },
        {
            "cell_type": "markdown",
            "metadata": {},
            "source": [
                "- 2.1. Focus on relevant variables\n",
                "- 2.2. Preprocess the text\n",
                "- 2.3. Split the data into Training and Testing sets\n",
                "- 2.4. Vectorize Text Data"
            ]
        },
        {
            "cell_type": "markdown",
            "metadata": {},
            "source": [
                "In this step, we are preparing the dataset for modeling."
            ]
        },
        {
            "cell_type": "markdown",
            "metadata": {},
            "source": [
                "<br>\n",
                "\n",
                "**2.1. FOCUS ON RELEVANT VARIABLES**\n",
                "\n",
                "Remove the **`package_name`** column since it doesn't contribute to classifying the sentiment."
            ]
        },
        {
            "cell_type": "code",
            "execution_count": 5,
            "metadata": {},
            "outputs": [
                {
                    "data": {
                        "text/html": [
                            "<div>\n",
                            "<style scoped>\n",
                            "    .dataframe tbody tr th:only-of-type {\n",
                            "        vertical-align: middle;\n",
                            "    }\n",
                            "\n",
                            "    .dataframe tbody tr th {\n",
                            "        vertical-align: top;\n",
                            "    }\n",
                            "\n",
                            "    .dataframe thead th {\n",
                            "        text-align: right;\n",
                            "    }\n",
                            "</style>\n",
                            "<table border=\"1\" class=\"dataframe\">\n",
                            "  <thead>\n",
                            "    <tr style=\"text-align: right;\">\n",
                            "      <th></th>\n",
                            "      <th>review</th>\n",
                            "      <th>polarity</th>\n",
                            "    </tr>\n",
                            "  </thead>\n",
                            "  <tbody>\n",
                            "    <tr>\n",
                            "      <th>0</th>\n",
                            "      <td>privacy at least put some option appear offli...</td>\n",
                            "      <td>0</td>\n",
                            "    </tr>\n",
                            "    <tr>\n",
                            "      <th>1</th>\n",
                            "      <td>messenger issues ever since the last update, ...</td>\n",
                            "      <td>0</td>\n",
                            "    </tr>\n",
                            "    <tr>\n",
                            "      <th>2</th>\n",
                            "      <td>profile any time my wife or anybody has more ...</td>\n",
                            "      <td>0</td>\n",
                            "    </tr>\n",
                            "    <tr>\n",
                            "      <th>3</th>\n",
                            "      <td>the new features suck for those of us who don...</td>\n",
                            "      <td>0</td>\n",
                            "    </tr>\n",
                            "    <tr>\n",
                            "      <th>4</th>\n",
                            "      <td>forced reload on uploading pic on replying co...</td>\n",
                            "      <td>0</td>\n",
                            "    </tr>\n",
                            "  </tbody>\n",
                            "</table>\n",
                            "</div>"
                        ],
                        "text/plain": [
                            "                                              review  polarity\n",
                            "0   privacy at least put some option appear offli...         0\n",
                            "1   messenger issues ever since the last update, ...         0\n",
                            "2   profile any time my wife or anybody has more ...         0\n",
                            "3   the new features suck for those of us who don...         0\n",
                            "4   forced reload on uploading pic on replying co...         0"
                        ]
                    },
                    "execution_count": 5,
                    "metadata": {},
                    "output_type": "execute_result"
                }
            ],
            "source": [
                "# Dropping the irrelevant column\n",
                "df = df.drop(columns=['package_name'])\n",
                "\n",
                "# Display the updated structure of the dataset\n",
                "df.head()"
            ]
        },
        {
            "cell_type": "markdown",
            "metadata": {},
            "source": [
                "<br>\n",
                "\n",
                "**2.2. PREPOCESS THE TEXT**\n",
                "\n",
                "Clean and normalize the text in the **`review`** column by removing spaces and converting all text to lowercase."
            ]
        },
        {
            "cell_type": "code",
            "execution_count": 6,
            "metadata": {},
            "outputs": [
                {
                    "data": {
                        "text/plain": [
                            "0    privacy at least put some option appear offlin...\n",
                            "1    messenger issues ever since the last update, i...\n",
                            "2    profile any time my wife or anybody has more t...\n",
                            "3    the new features suck for those of us who don'...\n",
                            "4    forced reload on uploading pic on replying com...\n",
                            "Name: review, dtype: object"
                        ]
                    },
                    "execution_count": 6,
                    "metadata": {},
                    "output_type": "execute_result"
                }
            ],
            "source": [
                "# Cleaning and normalizing text\n",
                "df['review'] = df['review'].str.strip().str.lower()\n",
                "\n",
                "# Display a few cleaned reviews\n",
                "df['review'].head()"
            ]
        },
        {
            "cell_type": "markdown",
            "metadata": {},
            "source": [
                "<br>\n",
                "\n",
                "**2.3. SPLIT THE DATA INTO TRAINING AND TESTING SETS**\n",
                "\n",
                "Divide the dataset into **TRAINING** and **TESTING** subsets."
            ]
        },
        {
            "cell_type": "code",
            "execution_count": 9,
            "metadata": {},
            "outputs": [],
            "source": [
                "# Define predictors (X) and target (y)\n",
                "X = df['review']\n",
                "y = df['polarity']\n",
                "\n",
                "# Splitting data into training and testing sets\n",
                "X_train, X_test, y_train, y_test = train_test_split(X, y, test_size=0.2, random_state=42)\n"
            ]
        },
        {
            "cell_type": "markdown",
            "metadata": {},
            "source": [
                "<br>\n",
                "\n",
                "**2.4. VECTORIZE TEXT DATA**\n",
                "\n",
                "Convert the cleaned text into a numerical format using **CountVectorizer**, which creates a matrix of word counts, ignoring common stop words."
            ]
        },
        {
            "cell_type": "code",
            "execution_count": 10,
            "metadata": {},
            "outputs": [],
            "source": [
                "# Initialize the CountVectorizer\n",
                "vec_model = CountVectorizer(stop_words=\"english\")\n",
                "\n",
                "# Fit and transform the training data\n",
                "X_train = vec_model.fit_transform(X_train).toarray()\n",
                "\n",
                "# Transform the testing data using the same vectorizer\n",
                "X_test = vec_model.transform(X_test).toarray()\n"
            ]
        },
        {
            "cell_type": "markdown",
            "metadata": {},
            "source": [
                "<br>\n",
                "\n",
                "## **STEP 3: MODEL SELECTION**"
            ]
        },
        {
            "cell_type": "code",
            "execution_count": 15,
            "metadata": {},
            "outputs": [
                {
                    "name": "stdout",
                    "output_type": "stream",
                    "text": [
                        "BernoulliNB Accuracy: 0.770949720670391\n",
                        "Classification Report for BernoulliNB:\n",
                        "               precision    recall  f1-score   support\n",
                        "\n",
                        "           0       0.79      0.93      0.85       126\n",
                        "           1       0.70      0.40      0.51        53\n",
                        "\n",
                        "    accuracy                           0.77       179\n",
                        "   macro avg       0.74      0.66      0.68       179\n",
                        "weighted avg       0.76      0.77      0.75       179\n",
                        "\n"
                    ]
                }
            ],
            "source": [
                "from sklearn.naive_bayes import BernoulliNB\n",
                "\n",
                "# Initialize the BernoulliNB model\n",
                "bernoulli_nb = BernoulliNB()\n",
                "\n",
                "# Train the model\n",
                "bernoulli_nb.fit(X_train, y_train)\n",
                "\n",
                "# Make predictions\n",
                "y_pred_bernoulli = bernoulli_nb.predict(X_test)\n",
                "\n",
                "# Evaluate the model\n",
                "print(\"BernoulliNB Accuracy:\", accuracy_score(y_test, y_pred_bernoulli))\n",
                "print(\"Classification Report for BernoulliNB:\\n\", classification_report(y_test, y_pred_bernoulli))"
            ]
        },
        {
            "cell_type": "code",
            "execution_count": 16,
            "metadata": {},
            "outputs": [
                {
                    "name": "stdout",
                    "output_type": "stream",
                    "text": [
                        "GaussianNB Accuracy: 0.8044692737430168\n",
                        "Classification Report for GaussianNB:\n",
                        "               precision    recall  f1-score   support\n",
                        "\n",
                        "           0       0.85      0.88      0.86       126\n",
                        "           1       0.69      0.62      0.65        53\n",
                        "\n",
                        "    accuracy                           0.80       179\n",
                        "   macro avg       0.77      0.75      0.76       179\n",
                        "weighted avg       0.80      0.80      0.80       179\n",
                        "\n"
                    ]
                }
            ],
            "source": [
                "from sklearn.naive_bayes import GaussianNB\n",
                "\n",
                "# Initialize the GaussianNB model\n",
                "gaussian_nb = GaussianNB()\n",
                "\n",
                "# Train the model (requires dense array for GaussianNB)\n",
                "gaussian_nb.fit(X_train, y_train)\n",
                "\n",
                "# Make predictions\n",
                "y_pred_gaussian = gaussian_nb.predict(X_test)\n",
                "\n",
                "# Evaluate the model\n",
                "print(\"GaussianNB Accuracy:\", accuracy_score(y_test, y_pred_gaussian))\n",
                "print(\"Classification Report for GaussianNB:\\n\", classification_report(y_test, y_pred_gaussian))\n"
            ]
        },
        {
            "cell_type": "code",
            "execution_count": 11,
            "metadata": {},
            "outputs": [
                {
                    "name": "stdout",
                    "output_type": "stream",
                    "text": [
                        "MultinomialNB Accuracy: 0.8156424581005587\n",
                        "Classification Report for MultinomialNB:\n",
                        "               precision    recall  f1-score   support\n",
                        "\n",
                        "           0       0.84      0.90      0.87       126\n",
                        "           1       0.73      0.60      0.66        53\n",
                        "\n",
                        "    accuracy                           0.82       179\n",
                        "   macro avg       0.79      0.75      0.77       179\n",
                        "weighted avg       0.81      0.82      0.81       179\n",
                        "\n"
                    ]
                }
            ],
            "source": [
                "from sklearn.naive_bayes import MultinomialNB\n",
                "from sklearn.metrics import accuracy_score, classification_report\n",
                "\n",
                "# Initialize the MultinomialNB model\n",
                "multinomial_nb = MultinomialNB()\n",
                "\n",
                "# Train the model\n",
                "multinomial_nb.fit(X_train, y_train)\n",
                "\n",
                "# Make predictions\n",
                "y_pred_multinomial = multinomial_nb.predict(X_test)\n",
                "\n",
                "# Evaluate the model\n",
                "print(\"MultinomialNB Accuracy:\", accuracy_score(y_test, y_pred_multinomial))\n",
                "print(\"Classification Report for MultinomialNB:\\n\", classification_report(y_test, y_pred_multinomial))\n"
            ]
        }
    ],
    "metadata": {
        "kernelspec": {
            "display_name": "Python 3",
            "language": "python",
            "name": "python3"
        },
        "language_info": {
            "codemirror_mode": {
                "name": "ipython",
                "version": 3
            },
            "file_extension": ".py",
            "mimetype": "text/x-python",
            "name": "python",
            "nbconvert_exporter": "python",
            "pygments_lexer": "ipython3",
            "version": "3.12.6"
        },
        "orig_nbformat": 4
    },
    "nbformat": 4,
    "nbformat_minor": 2
}
